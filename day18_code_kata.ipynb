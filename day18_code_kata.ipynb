{
 "cells": [
  {
   "cell_type": "markdown",
   "metadata": {},
   "source": [
    "# Day 18 Kata: Data Munging\n",
    "\n",
    "A [code katas](http://codekata.com) is a short exercise for practicing particular Python skills.\n",
    "\n",
    "This exercise is adapted from [Kata04](http://codekata.com/kata/kata04-data-munging/), by Dave Thomas.\n",
    "\n",
    "**Due: Monday, November 7 at 12 noon**"
   ]
  },
  {
   "cell_type": "markdown",
   "metadata": {},
   "source": [
    "### Part One: Weather Data\n",
    "\n",
    "In `./data/weather.dat` you’ll find daily weather data for Morristown, NJ for June 2002.\n",
    "Write a function that outputs the day number (column one) with the smallest temperature spread (the maximum temperature is the second column, the minimum the third column)."
   ]
  },
  {
   "cell_type": "code",
   "execution_count": 56,
   "metadata": {
    "collapsed": false
   },
   "outputs": [
    {
     "name": "stdout",
     "output_type": "stream",
     "text": [
      "['14', 2.0]\n"
     ]
    }
   ],
   "source": [
    "def find_day_with_smallest_spread():\n",
    "    f = open('./data/weather.dat')\n",
    "    f_read = f.readlines()\n",
    "    lines_list = []\n",
    "    temp_list = []\n",
    "    lowest_day = 0\n",
    "    lowest_temp_spread = 0\n",
    "    \n",
    "    for line in f_read:\n",
    "        lines_list.append(line.split())\n",
    "     \n",
    "    lines_list.remove(lines_list[0])\n",
    "    lines_list.remove(lines_list[0])\n",
    "    lines_list.remove(lines_list[-1])\n",
    "    #print lines_list\n",
    "    \n",
    "    for data in lines_list:\n",
    "        day = data[0]\n",
    "        max_temp = data[1]\n",
    "        max_temp = max_temp.strip('*')\n",
    "        min_temp = data[2]\n",
    "        min_temp = min_temp.strip('*')\n",
    "        temp_spread = float(max_temp) - float(min_temp)\n",
    "        temp_list.append([day, temp_spread])\n",
    "        \n",
    "    i = 0\n",
    "    lowest_index = 0\n",
    "    while i < len(temp_list)-1: \n",
    "        lowest_temp_spread = temp_list[i][1]\n",
    "        if temp_list[lowest_index][1] > temp_list[i+1][1]:\n",
    "            lowest_temp_spread = temp_list[i][1]\n",
    "            lowest_index = i+1\n",
    "        i+=1\n",
    "    \n",
    "    return temp_list[lowest_index]\n",
    "\n",
    "print find_day_with_smallest_spread()"
   ]
  },
  {
   "cell_type": "markdown",
   "metadata": {},
   "source": [
    "### Part Two: Soccer League Table\n",
    "The file `./data/football.dat` contains the results from the English Premier League for 2001/2.\n",
    "The columns labeled ‘F’ and ‘A’ contain the total number of goals scored for and against each team in that season (so Arsenal scored 79 goals against opponents, and had 36 goals scored against them).\n",
    "Write a function to print the name of the team with the smallest difference in ‘for’ and ‘against’ goals."
   ]
  },
  {
   "cell_type": "code",
   "execution_count": 55,
   "metadata": {
    "collapsed": false
   },
   "outputs": [
    {
     "name": "stdout",
     "output_type": "stream",
     "text": [
      "['Aston_Villa', 1.0]\n"
     ]
    }
   ],
   "source": [
    "def find_team_with_smallest_difference():\n",
    "    f = open('./data/football.dat')\n",
    "    f_read = f.readlines()\n",
    "    lines_list = []\n",
    "    scores_list = []\n",
    "    lowest_team = 0\n",
    "    lowest_difference = 0\n",
    "    \n",
    "    for line in f_read:\n",
    "        lines_list.append(line.split())\n",
    "     \n",
    "    lines_list.remove(lines_list[0])\n",
    "    lines_list.remove(lines_list[17])\n",
    "    #print lines_list\n",
    "    \n",
    "    for data in lines_list:\n",
    "        team = data[1]\n",
    "        for_score = data[6]\n",
    "        for_score = for_score.strip('*')\n",
    "        against_score = data[8]\n",
    "        against_score = against_score.strip('*')\n",
    "        difference = abs(float(for_score) - float(against_score))\n",
    "        scores_list.append([team, difference])\n",
    "        \n",
    "    i = 0\n",
    "    lowest_index = 0\n",
    "    while i < len(scores_list)-1: \n",
    "        lowest_difference = scores_list[i][1]\n",
    "        if scores_list[lowest_index][1] > scores_list[i+1][1]:\n",
    "            lowest_difference = scores_list[i][1]\n",
    "            lowest_index = i+1\n",
    "        i+=1\n",
    "    \n",
    "    return scores_list[lowest_index]\n",
    "\n",
    "print find_team_with_smallest_difference()"
   ]
  },
  {
   "cell_type": "markdown",
   "metadata": {},
   "source": [
    "### Part Three: DRY Fusion\n",
    "“In software engineering, **d**on't **r**epeat **y**ourself (DRY) is a principle of software development, aimed at reducing repetition of information of all kinds” – [Wikipedia](https://en.wikipedia.org/wiki/Don%27t_repeat_yourself).\n",
    "\n",
    "(Compare this to [copy and paste programming](https://en.wikipedia.org/wiki/Copy_and_paste_programming).)\n",
    "\n",
    "Take the two functions written previously and [factor out](https://en.wikipedia.org/wiki/Code_refactoring) as much common code as possible, leaving you with two smaller functions that each call a third function."
   ]
  },
  {
   "cell_type": "code",
   "execution_count": 72,
   "metadata": {
    "collapsed": false
   },
   "outputs": [
    {
     "name": "stdout",
     "output_type": "stream",
     "text": [
      "['Aston_Villa', 1.0]\n",
      "['14', 2.0]\n"
     ]
    }
   ],
   "source": [
    "import string\n",
    "#list_of_indices_to_remove = indices of rows that are not records and are headers, etc.\n",
    "#column index of the observation (i.e. team or day or whatever you're trying to observe)\n",
    "#first_num/second_num refer to the column index that the first number and second number of observation are stored in\n",
    "def find_smallest_difference(source, list_of_indices_to_remove, observation, first_num, second_num):\n",
    "    f = open(source)\n",
    "    f_read = f.readlines()\n",
    "    lines_list = []\n",
    "    records_list = []\n",
    "    lowest_difference = 0\n",
    "    indices = list_of_indices_to_remove\n",
    "    \n",
    "    for line in f_read:\n",
    "        lines_list.append(line.split())\n",
    "     \n",
    "    for offset, index in enumerate(indices):\n",
    "        index -= offset\n",
    "        del lines_list[index]\n",
    "    \n",
    "    #print lines_list\n",
    "    \n",
    "    for data in lines_list:\n",
    "        obs = data[observation]\n",
    "        first_number = data[first_num]\n",
    "        first_number = first_number.strip(string.punctuation)\n",
    "        second_number = data[second_num]\n",
    "        second_number = second_number.strip(string.punctuation)\n",
    "        difference = abs(float(first_number) - float(second_number))\n",
    "        records_list.append([obs, difference])\n",
    "        \n",
    "    i = 0\n",
    "    lowest_index = 0\n",
    "    while i < len(records_list)-1: \n",
    "        lowest_difference = records_list[i][1]\n",
    "        if records_list[lowest_index][1] > records_list[i+1][1]:\n",
    "            lowest_difference = records_list[i][1]\n",
    "            lowest_index = i+1\n",
    "        i+=1\n",
    "    \n",
    "    return records_list[lowest_index]\n",
    "\n",
    "print find_smallest_difference('./data/football.dat',[0,18],1,6,8)\n",
    "print find_smallest_difference('./data/weather.dat',[0,1,-1],0,1,2)"
   ]
  },
  {
   "cell_type": "markdown",
   "metadata": {},
   "source": [
    "## Quick poll\n",
    "\n",
    "About how long did you spend working on this Reading Journal?"
   ]
  },
  {
   "cell_type": "markdown",
   "metadata": {},
   "source": []
  },
  {
   "cell_type": "markdown",
   "metadata": {},
   "source": [
    "## Reading Journal feedback\n",
    "\n",
    "Have any comments on this Reading Journal? Feel free to leave them below and we'll read them when you submit your journal entry. This could include suggestions to improve the exercises, topics you'd like to see covered in class next time, or other feedback.\n",
    "If you have Python questions or run into problems while completing the reading, you should post them to Piazza instead so you can get a quick response before your journal is submitted."
   ]
  },
  {
   "cell_type": "markdown",
   "metadata": {},
   "source": []
  }
 ],
 "metadata": {
  "anaconda-cloud": {},
  "kernelspec": {
   "display_name": "Python 2",
   "language": "python",
   "name": "python2"
  },
  "language_info": {
   "codemirror_mode": {
    "name": "ipython",
    "version": 2
   },
   "file_extension": ".py",
   "mimetype": "text/x-python",
   "name": "python",
   "nbconvert_exporter": "python",
   "pygments_lexer": "ipython2",
   "version": "2.7.6"
  }
 },
 "nbformat": 4,
 "nbformat_minor": 0
}
