{
 "cells": [
  {
   "cell_type": "markdown",
   "metadata": {},
   "source": [
    "# Day 8 Reading Journal\n",
    "\n",
    "This journal includes several required exercises, but it is meant to encourage active reading more generally.  You should use the journal to take detailed notes, catalog questions, and explore the content from Think Python deeply.\n",
    "\n",
    "Reading: Think Python Chapter 12\n",
    "\n",
    "**Due: Thursday, September 29 at 12 noon**\n"
   ]
  },
  {
   "cell_type": "markdown",
   "metadata": {},
   "source": [
    "## [Chapter 12](http://www.greenteapress.com/thinkpython/html/thinkpython013.html)"
   ]
  },
  {
   "cell_type": "markdown",
   "metadata": {},
   "source": [
    "### Exercise 2 \n",
    "Exercise 12.2. In this example, ties are broken by comparing words, so words with the same length appear in reverse alphabetical order. For other applications you might want to break ties at ran- dom. Modify this example so that words with the same length appear in random order. Hint: see the random function in the random module."
   ]
  },
  {
   "cell_type": "code",
   "execution_count": 1,
   "metadata": {
    "collapsed": false
   },
   "outputs": [
    {
     "data": {
      "text/plain": [
       "['wonderful', 'tiggers', 'thing', 'about', 'The']"
      ]
     },
     "execution_count": 1,
     "metadata": {},
     "output_type": "execute_result"
    }
   ],
   "source": [
    "def sort_by_length(words):\n",
    "    t = []\n",
    "    for word in words:\n",
    "       t.append((len(word), word))\n",
    "    t.sort(reverse=True)\n",
    "    res = []\n",
    "    for length, word in t:\n",
    "        res.append(word)\n",
    "    return res\n",
    "\n",
    "sort_by_length([\"The\", \"wonderful\", \"thing\", \"about\", \"tiggers\"])"
   ]
  },
  {
   "cell_type": "code",
   "execution_count": 11,
   "metadata": {
    "collapsed": false
   },
   "outputs": [
    {
     "name": "stdout",
     "output_type": "stream",
     "text": [
      "['about', 'thing']\n"
     ]
    },
    {
     "data": {
      "text/plain": [
       "['wonderful', 'tiggers', 'about', 'thing', 'The']"
      ]
     },
     "execution_count": 11,
     "metadata": {},
     "output_type": "execute_result"
    }
   ],
   "source": [
    "import random\n",
    "from random import shuffle\n",
    "\n",
    "def sort_by_length(words):\n",
    "    t = []\n",
    "    for word in words:\n",
    "       t.append((len(word), word))\n",
    "    t.sort(reverse=True)\n",
    "    res = []\n",
    "    for length, word in t:\n",
    "        res.append(word)\n",
    "    \n",
    "    new = []\n",
    "    count = 0\n",
    "    \n",
    "    while count < len(res)-2:\n",
    "        if len(res[count]) == len(res[count + 1]):\n",
    "            temp = [res[count], res[count+1]]\n",
    "            shuffle(temp)\n",
    "            print temp\n",
    "            new = new + temp\n",
    "            count += 2\n",
    "        else:\n",
    "            new.append(res[count])\n",
    "            count+=1\n",
    "    new.append(res[len(res)-1])\n",
    "    return new\n",
    "\n",
    "sort_by_length([\"The\", \"wonderful\", \"thing\", \"about\", \"tiggers\"])"
   ]
  },
  {
   "cell_type": "markdown",
   "metadata": {},
   "source": [
    "### Exercise 4\n",
    "\n",
    "1. Write a program that reads a word list from a file (see Section 9.1) and prints all the sets of\n",
    "words that are anagrams.\n",
    "Here is an example of what the output might look like:\n",
    "\n",
    "     ['deltas', 'desalt', 'lasted', 'salted', 'slated', 'staled']\n",
    "     ['retainers', 'ternaries']\n",
    "     ['generating', 'greatening']\n",
    "     ['resmelts', 'smelters', 'termless']\n",
    "\n",
    "Hint: you might want to build a dictionary that maps from a set of letters to a list of words that can be spelled with those letters. The question is, how can you represent the set of letters in a way that can be used as a key?"
   ]
  },
  {
   "cell_type": "code",
   "execution_count": 167,
   "metadata": {
    "collapsed": false
   },
   "outputs": [
    {
     "name": "stdout",
     "output_type": "stream",
     "text": [
      "1) aerrs: ['raser', 'rears']\n",
      "2) adeeoprrsv: ['overprased', 'overspread']\n",
      "3) aerrw: ['rawer', 'warer']\n",
      "4) aerrt: ['rater', 'tarre', 'terra']\n",
      "5) abceorsst: ['cabestros', 'cabrestos']\n",
      "6) denorst: ['rodents', 'snorted']\n",
      "7) denorsu: ['enduros', 'resound', 'sounder', 'undoers']\n"
     ]
    }
   ],
   "source": [
    "from collections import defaultdict\n",
    "\n",
    "with open('words.txt', 'r') as text:\n",
    "    words = text.read().splitlines()\n",
    "    \n",
    "def dictionary(word_list):\n",
    "    result = defaultdict(list)\n",
    "    for word in word_list:\n",
    "        indicator = ''.join(sorted(word))\n",
    "        result[indicator].append(word)\n",
    "    result = {indicator: result[indicator] for indicator in result if len(result[indicator]) > 1}\n",
    "    return result\n",
    "\n",
    "anagrams = dictionary(words)\n",
    "\n",
    "def print_an(anagrams):\n",
    "    indicator = (indicator for indicator in anagrams)\n",
    "    #top 7\n",
    "    for i in range(1, 8):\n",
    "        next_indicator = indicator.next()\n",
    "        print \"%s) %s:\" % (i, next_indicator), anagrams[next_indicator]\n",
    "\n",
    "\n",
    "print_an(anagrams)\n"
   ]
  },
  {
   "cell_type": "code",
   "execution_count": 166,
   "metadata": {
    "collapsed": false
   },
   "outputs": [
    {
     "name": "stdout",
     "output_type": "stream",
     "text": [
      "1) 11 ['alerts', 'alters', 'artels', 'estral', 'laster', 'ratels', 'salter', 'slater', 'staler', 'stelar', 'talers']\n",
      "2) 11 ['apers', 'asper', 'pares', 'parse', 'pears', 'prase', 'presa', 'rapes', 'reaps', 'spare', 'spear']\n",
      "3) 10 ['least', 'setal', 'slate', 'stale', 'steal', 'stela', 'taels', 'tales', 'teals', 'tesla']\n"
     ]
    }
   ],
   "source": [
    "def sort(anagrams):\n",
    "    an_list = []\n",
    "    for indicator in anagrams:\n",
    "        an_list.append(anagrams[indicator])\n",
    "    an_list.sort(key=len, reverse=True)\n",
    "    #top3\n",
    "    for i in range(0, 3):\n",
    "        print \"%s) %d\" % ((i + 1), len(an_list[i])), an_list[i]\n",
    "\n",
    "sort(anagrams)"
   ]
  },
  {
   "cell_type": "markdown",
   "metadata": {},
   "source": [
    "3\\. In Scrabble a “bingo” is when you play all seven tiles in your rack, along with a letter on the board, to form an eight-letter word. What set of 8 letters forms the most possible bingos? Hint: there are seven."
   ]
  },
  {
   "cell_type": "code",
   "execution_count": 172,
   "metadata": {
    "collapsed": false
   },
   "outputs": [
    {
     "name": "stdout",
     "output_type": "stream",
     "text": [
      "1) 7: aeginrst ['angriest', 'astringe', 'ganister', 'gantries', 'granites', 'ingrates', 'rangiest']\n",
      "2) 6: aeinprst ['painters', 'pantries', 'pertains', 'pinaster', 'pristane', 'repaints']\n",
      "3) 6: aeegnrst ['estrange', 'grantees', 'greatens', 'negaters', 'reagents', 'sergeant']\n",
      "4) 6: aegilnrs ['aligners', 'engrails', 'nargiles', 'realigns', 'signaler', 'slangier']\n",
      "5) 6: aegilnrt ['alerting', 'altering', 'integral', 'relating', 'tanglier', 'triangle']\n",
      "6) 5: aelprstt ['partlets', 'platters', 'prattles', 'splatter', 'sprattle']\n",
      "7) 5: aeelmnss ['lameness', 'maleness', 'maneless', 'nameless', 'salesmen']\n"
     ]
    }
   ],
   "source": [
    "def bingo(anagrams):\n",
    "    possibilities = [anagrams[key] for key in anagrams if len(key) == 8]\n",
    "    possibilities.sort(key=len, reverse=True)\n",
    "    for i in range(0, 7):\n",
    "        fp = ''.join(sorted(possibilities[i][0]))\n",
    "        print \"%s) %d: %s\" % ((i + 1), len(possibilities[i]), fp), possibilities[i]\n",
    "        \n",
    "bingo(anagrams)"
   ]
  },
  {
   "cell_type": "markdown",
   "metadata": {},
   "source": [
    "# Quick poll\n",
    "About how long did you spend working on this Reading Journal?"
   ]
  },
  {
   "cell_type": "code",
   "execution_count": null,
   "metadata": {
    "collapsed": true
   },
   "outputs": [],
   "source": [
    "5 hours"
   ]
  },
  {
   "cell_type": "markdown",
   "metadata": {},
   "source": [
    " "
   ]
  }
 ],
 "metadata": {
  "anaconda-cloud": {},
  "kernelspec": {
   "display_name": "Python 2",
   "language": "python",
   "name": "python2"
  },
  "language_info": {
   "codemirror_mode": {
    "name": "ipython",
    "version": 2
   },
   "file_extension": ".py",
   "mimetype": "text/x-python",
   "name": "python",
   "nbconvert_exporter": "python",
   "pygments_lexer": "ipython2",
   "version": "2.7.6"
  }
 },
 "nbformat": 4,
 "nbformat_minor": 0
}
