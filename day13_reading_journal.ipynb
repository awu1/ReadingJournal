{
 "cells": [
  {
   "cell_type": "markdown",
   "metadata": {},
   "source": [
    "# Day 13 Reading Journal\n",
    "\n",
    "This journal includes review questions relating to Think Python Chapter 16.\n",
    "\n",
    "**Due: Thursday, October 20 at 12 noon**"
   ]
  },
  {
   "cell_type": "markdown",
   "metadata": {},
   "source": [
    "## Exercise 16-1.\n",
    "Write a function called `print_time` that takes a Time object and prints it in the form `hour:minute:second`.\n",
    "Hint: the format sequence `'%.2d'` prints an integer using at least two digits, including a leading zero if necessary."
   ]
  },
  {
   "cell_type": "code",
   "execution_count": 24,
   "metadata": {
    "collapsed": false
   },
   "outputs": [
    {
     "name": "stdout",
     "output_type": "stream",
     "text": [
      "11:59:30\n"
     ]
    }
   ],
   "source": [
    "class Time(object):\n",
    "    pass\n",
    "    \n",
    "time = Time()\n",
    "time.hour = 11\n",
    "time.minute = 59\n",
    "time.second = 30    \n",
    "    \n",
    "\n",
    "def print_time(time):\n",
    "    print \"%.2d:%.2d:%.2d\" % (time.hour, time.minute, time.second)\n",
    "\n",
    "print_time(time)"
   ]
  },
  {
   "cell_type": "markdown",
   "metadata": {},
   "source": []
  },
  {
   "cell_type": "markdown",
   "metadata": {},
   "source": [
    "## Exercise 16-2\n",
    "Write a boolean function called `is_after` that takes two Time objects, `t1` and `t2`, and returns `True` if `t1` follows `t2` chronologically and `False` otherwise.\n",
    "\n",
    "Challenge: don’t use an `if` statement."
   ]
  },
  {
   "cell_type": "code",
   "execution_count": 25,
   "metadata": {
    "collapsed": false
   },
   "outputs": [
    {
     "data": {
      "text/plain": [
       "False"
      ]
     },
     "execution_count": 25,
     "metadata": {},
     "output_type": "execute_result"
    }
   ],
   "source": [
    "def is_after(t1,t2):\n",
    "    if(t1.hour >= t2.hour):\n",
    "        if(t1.minute >= t2.minute):\n",
    "            if(t1.second >= t2.minute):\n",
    "                return True\n",
    "    return False\n",
    "\n",
    "time1 = Time()\n",
    "time1.hour = 9\n",
    "time1.minute = 45\n",
    "time1.second = 0\n",
    "\n",
    "time2 = Time()\n",
    "time2.hour = 1\n",
    "time2.minute = 35\n",
    "time2.second = 5\n",
    "\n",
    "is_after(time1,time2)"
   ]
  },
  {
   "cell_type": "markdown",
   "metadata": {},
   "source": [
    "## Modifiers\n",
    "Complete the code below, such that it demonstrates:\n",
    "\n",
    "* `increment` behaving as specified\n",
    "* `increment` with incorrect behavior"
   ]
  },
  {
   "cell_type": "code",
   "execution_count": 34,
   "metadata": {
    "collapsed": false
   },
   "outputs": [
    {
     "name": "stdout",
     "output_type": "stream",
     "text": [
      "09:45:45\n",
      "09:46:30\n",
      "01:36:245\n"
     ]
    }
   ],
   "source": [
    "class Time(object):\n",
    "    pass\n",
    "\n",
    "def increment(time, seconds):\n",
    "    time.second += seconds\n",
    "    if time.second >= 60:\n",
    "        time.second -= 60\n",
    "        time.minute += 1\n",
    "    if time.minute >= 60:\n",
    "        time.minute -= 60\n",
    "        time.hour += 1\n",
    "    if time.hour > 12:\n",
    "        time.hour -= 12\n",
    "\n",
    "t1 = Time()\n",
    "t1.hour = 9\n",
    "t1.minute = 45\n",
    "t1.second = 0\n",
    "\n",
    "t2 = Time()\n",
    "t2.hour = 1\n",
    "t2.minute = 35\n",
    "t2.second = 5\n",
    "\n",
    "\n",
    "t1.second = t1.second + 45\n",
    "print_time(t1)\n",
    "increment(t1,45)\n",
    "print_time(t1)\n",
    "\n",
    "increment(t2,300)\n",
    "print_time(t2)"
   ]
  },
  {
   "cell_type": "markdown",
   "metadata": {},
   "source": [
    "## Exercise 16-3 (adapted)\n",
    "Fix `increment`, and demonstrate that has the correct behavior in the case that was a problem above.\n",
    "\n",
    "Unlike the version of this question in Think Python, you are allowed (but not required) to use loops."
   ]
  },
  {
   "cell_type": "code",
   "execution_count": 41,
   "metadata": {
    "collapsed": false
   },
   "outputs": [
    {
     "name": "stdout",
     "output_type": "stream",
     "text": [
      "01:40:05\n"
     ]
    }
   ],
   "source": [
    "class Time(object):\n",
    "    \"\"\"Represents the time of day.\n",
    "    attributes: hour, minute, second\n",
    "    \"\"\"\n",
    "\n",
    "def increment2(time, seconds):\n",
    "    time.second += seconds\n",
    "    while(time.second >= 60):\n",
    "        time.second -= 60\n",
    "        time.minute += 1\n",
    "    while(time.minute >= 60):\n",
    "        time.minute -= 60\n",
    "        time.hour += 1\n",
    "    while(time.hour > 12):\n",
    "        time.hour -= 12\n",
    "\n",
    "t2 = Time()\n",
    "t2.hour = 1\n",
    "t2.minute = 35\n",
    "t2.second = 5\n",
    "\n",
    "increment2(t2,300)\n",
    "print_time(t2)"
   ]
  },
  {
   "cell_type": "markdown",
   "metadata": {},
   "source": [
    "## PyGame Tutorial\n",
    "Add a link to the PyGame tutorial that you studied.\n",
    "\n",
    "Write a sentence (or more) that summarize the main points of the tutorial."
   ]
  },
  {
   "cell_type": "markdown",
   "metadata": {},
   "source": [
    "http://thepythongamebook.com/en:pygame:start\n",
    "\n",
    "Often games are screens that are split into rectangles and these rectangles are moved, changed, made visible, or hidden. This is called pygame surfaces. There is also event handlers that allows the computer to register when these events happen and what should be done. We can create a pygame surface of whatever pixel x pixel size and using these coordinates, we can draw using drawing functions, including shapes that could draw using turtle. We can also store these as objects to be used, called, and identified throughout our game. "
   ]
  },
  {
   "cell_type": "markdown",
   "metadata": {},
   "source": [
    "# Quick poll\n",
    "About how long did you spend working on this Reading Journal?"
   ]
  },
  {
   "cell_type": "code",
   "execution_count": null,
   "metadata": {
    "collapsed": true
   },
   "outputs": [],
   "source": [
    "1.5 hours"
   ]
  },
  {
   "cell_type": "markdown",
   "metadata": {},
   "source": [
    " "
   ]
  }
 ],
 "metadata": {
  "anaconda-cloud": {},
  "kernelspec": {
   "display_name": "Python 2",
   "language": "python",
   "name": "python2"
  },
  "language_info": {
   "codemirror_mode": {
    "name": "ipython",
    "version": 2
   },
   "file_extension": ".py",
   "mimetype": "text/x-python",
   "name": "python",
   "nbconvert_exporter": "python",
   "pygments_lexer": "ipython2",
   "version": "2.7.6"
  }
 },
 "nbformat": 4,
 "nbformat_minor": 0
}
